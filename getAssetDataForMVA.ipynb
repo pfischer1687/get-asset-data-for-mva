{
 "cells": [
  {
   "cell_type": "markdown",
   "id": "f604466a",
   "metadata": {},
   "source": [
    "# Create `asset-data.json` for Mean-Variance Analyzer"
   ]
  },
  {
   "cell_type": "markdown",
   "id": "84e0d04b",
   "metadata": {},
   "source": [
    "In this notebook, we get and clean the financial market data that will be preloaded as a JSON file in the \"Mean-Variance Analyzer\" web app ([view live site](https://meanvarianceanalyzermain.gatsbyjs.io/))."
   ]
  },
  {
   "cell_type": "code",
   "execution_count": 1,
   "id": "80a8fc65",
   "metadata": {},
   "outputs": [],
   "source": [
    "import pandas as pd\n",
    "import yfinance as yf\n",
    "import json"
   ]
  },
  {
   "cell_type": "markdown",
   "id": "18e24de4",
   "metadata": {},
   "source": [
    "## Getting the monthly close price return data"
   ]
  },
  {
   "cell_type": "markdown",
   "id": "7e8a9fae",
   "metadata": {},
   "source": [
    "We start by getting the financial market data via the yfinance API. We then sort it in alphabetical order - this allows us to store the information needed to recreate the covariance matrix for these assets on the client's device in a file approximately half the size (since the matrix is symmetric - please see the site's [Tutorial](https://meanvarianceanalyzermain.gatsbyjs.io/tutorial) page for more information on the covariance matrix and other quantities contained in this dataset). We have chosen 101 popular assets for our demo data ranging from stocks, ETFs to cryptocurrencies and more."
   ]
  },
  {
   "cell_type": "code",
   "execution_count": 77,
   "id": "bd0a07c3",
   "metadata": {},
   "outputs": [],
   "source": [
    "assetTickers = ['AAPL', 'MSFT', 'UNH', 'JNJ', 'V', 'WMT', 'JPM', 'CVX', 'PG', 'HD',\n",
    "               'KO', 'MRK', 'MCD', 'DIS', 'CSCO', 'VZ', 'CRM', 'AMGN', 'NKE', 'HON',\n",
    "               'IBM', 'GS', 'CAT', 'INTC', 'AXP', 'BA', 'MMM', 'TRV', 'DOW', 'WBA',\n",
    "               'GOOGL', 'GOOG', 'AMZN', 'TSLA', 'BRK-B', 'META', 'NVDA', 'XOM', 'MA', 'LLY',\n",
    "               'PFE', 'BAC', 'ABBV', 'PEP', 'COST', 'AVGO', 'TMO', 'ABT', 'ADBE', 'CMCSA',\n",
    "                'INTU', 'ADP', 'GILD', 'AMD', 'AMAT', 'BKNG', 'ADI', 'ABNB', 'FISV', 'CSX',\n",
    "               'CHTR', 'ATVI', 'DXCM', 'ADSK', 'AEP', 'FTNT', 'CTAS', 'CDNS', 'ORCL', 'SPY',\n",
    "               'VTI', 'VEA', 'GLD', 'HLAL', 'SPUS', 'AMAGX', 'AMANX', 'BTC-USD', 'ETH-USD', 'BNB-USD',\n",
    "               'XRP-USD', 'DOGE-USD', 'ADA-USD', 'SOL-USD', 'MATIC-USD', 'DOT-USD', 'TRX-USD', 'LTC-USD', 'ETC-USD', 'XLM-USD',\n",
    "               'XMR-USD', '2222.SR', 'TSM', 'MC.PA', 'TCEHY', 'NESN.SW', '005930.KS', '600519.SS', 'ROG.SW', 'NVO',\n",
    "               'ASML']\n",
    "\n",
    "assetTickers.sort()"
   ]
  },
  {
   "cell_type": "code",
   "execution_count": 78,
   "id": "5ec9eb17",
   "metadata": {},
   "outputs": [
    {
     "name": "stdout",
     "output_type": "stream",
     "text": [
      "['005930.KS', '2222.SR', '600519.SS', 'AAPL', 'ABBV', 'ABNB', 'ABT', 'ADA-USD', 'ADBE', 'ADI', 'ADP', 'ADSK', 'AEP', 'AMAGX', 'AMANX', 'AMAT', 'AMD', 'AMGN', 'AMZN', 'ASML', 'ATVI', 'AVGO', 'AXP', 'BA', 'BAC', 'BKNG', 'BNB-USD', 'BRK-B', 'BTC-USD', 'CAT', 'CDNS', 'CHTR', 'CMCSA', 'COST', 'CRM', 'CSCO', 'CSX', 'CTAS', 'CVX', 'DIS', 'DOGE-USD', 'DOT-USD', 'DOW', 'DXCM', 'ETC-USD', 'ETH-USD', 'FISV', 'FTNT', 'GILD', 'GLD', 'GOOG', 'GOOGL', 'GS', 'HD', 'HLAL', 'HON', 'IBM', 'INTC', 'INTU', 'JNJ', 'JPM', 'KO', 'LLY', 'LTC-USD', 'MA', 'MATIC-USD', 'MC.PA', 'MCD', 'META', 'MMM', 'MRK', 'MSFT', 'NESN.SW', 'NKE', 'NVDA', 'NVO', 'ORCL', 'PEP', 'PFE', 'PG', 'ROG.SW', 'SOL-USD', 'SPUS', 'SPY', 'TCEHY', 'TMO', 'TRV', 'TRX-USD', 'TSLA', 'TSM', 'UNH', 'V', 'VEA', 'VTI', 'VZ', 'WBA', 'WMT', 'XLM-USD', 'XMR-USD', 'XOM', 'XRP-USD']\n",
      "101\n",
      "101\n"
     ]
    }
   ],
   "source": [
    "print(assetTickers)\n",
    "print(len(assetTickers)) # Check that it contains 101 assets\n",
    "print(len(set(assetTickers))) # Check that it contains 101 unique assets"
   ]
  },
  {
   "cell_type": "markdown",
   "id": "a7299624",
   "metadata": {},
   "source": [
    "Now that we have the tickers for our assets of interest, let us make a pandas DataFrame of the monthly returns (in %) of the close price over the max period of our assets' data as provided by the yfinance API. We are cleaning the data by first forward filling all NaN values for close prices and then dropping any dates that are before ALL assets have data. This is one of the multiple choices in this document made by the developer that will inevitably affect the accuracy of the results - note that we are not liable for the accuracy of this data nor its resulting information as per the site's [Terms of Service](https://meanvarianceanalyzermain.gatsbyjs.io/terms). This data is also only up to November 2022 and will be stale after that - it is only meant for educational demonstration and not as financial advice."
   ]
  },
  {
   "cell_type": "code",
   "execution_count": 79,
   "id": "eacabda6",
   "metadata": {},
   "outputs": [
    {
     "name": "stdout",
     "output_type": "stream",
     "text": [
      "Wall time: 30 s\n"
     ]
    }
   ],
   "source": [
    "%%time\n",
    "df = pd.DataFrame()\n",
    "for ticker in assetTickers:\n",
    "    # Get monthly max period close data\n",
    "    tmpDf = pd.DataFrame(yf.Ticker(ticker).history(period=\"max\", interval=\"1mo\")[\"Close\"]).rename(\n",
    "        columns={\"Close\":ticker})\n",
    "    \n",
    "    # Format for monthly index using the first datum of each month\n",
    "    tmpDf.index = tmpDf.index.strftime('%Y-%m')\n",
    "    tmpDf = tmpDf[~tmpDf.index.duplicated(keep='first')]\n",
    "    \n",
    "    df = df.join(tmpDf, how='outer')\n",
    "\n",
    "# clean data\n",
    "df.fillna(method='ffill', inplace=True)\n",
    "df.dropna(how='all', inplace=True)\n",
    "\n",
    "# get monthly pct return\n",
    "df = df.pct_change()[1:] * 100"
   ]
  },
  {
   "cell_type": "code",
   "execution_count": 80,
   "id": "e3debc8b",
   "metadata": {},
   "outputs": [
    {
     "data": {
      "text/html": [
       "<div>\n",
       "<style scoped>\n",
       "    .dataframe tbody tr th:only-of-type {\n",
       "        vertical-align: middle;\n",
       "    }\n",
       "\n",
       "    .dataframe tbody tr th {\n",
       "        vertical-align: top;\n",
       "    }\n",
       "\n",
       "    .dataframe thead th {\n",
       "        text-align: right;\n",
       "    }\n",
       "</style>\n",
       "<table border=\"1\" class=\"dataframe\">\n",
       "  <thead>\n",
       "    <tr style=\"text-align: right;\">\n",
       "      <th></th>\n",
       "      <th>005930.KS</th>\n",
       "      <th>2222.SR</th>\n",
       "      <th>600519.SS</th>\n",
       "      <th>AAPL</th>\n",
       "      <th>ABBV</th>\n",
       "      <th>ABNB</th>\n",
       "      <th>ABT</th>\n",
       "      <th>ADA-USD</th>\n",
       "      <th>ADBE</th>\n",
       "      <th>ADI</th>\n",
       "      <th>...</th>\n",
       "      <th>V</th>\n",
       "      <th>VEA</th>\n",
       "      <th>VTI</th>\n",
       "      <th>VZ</th>\n",
       "      <th>WBA</th>\n",
       "      <th>WMT</th>\n",
       "      <th>XLM-USD</th>\n",
       "      <th>XMR-USD</th>\n",
       "      <th>XOM</th>\n",
       "      <th>XRP-USD</th>\n",
       "    </tr>\n",
       "    <tr>\n",
       "      <th>Date</th>\n",
       "      <th></th>\n",
       "      <th></th>\n",
       "      <th></th>\n",
       "      <th></th>\n",
       "      <th></th>\n",
       "      <th></th>\n",
       "      <th></th>\n",
       "      <th></th>\n",
       "      <th></th>\n",
       "      <th></th>\n",
       "      <th></th>\n",
       "      <th></th>\n",
       "      <th></th>\n",
       "      <th></th>\n",
       "      <th></th>\n",
       "      <th></th>\n",
       "      <th></th>\n",
       "      <th></th>\n",
       "      <th></th>\n",
       "      <th></th>\n",
       "      <th></th>\n",
       "    </tr>\n",
       "  </thead>\n",
       "  <tbody>\n",
       "    <tr>\n",
       "      <th>1962-03</th>\n",
       "      <td>NaN</td>\n",
       "      <td>NaN</td>\n",
       "      <td>NaN</td>\n",
       "      <td>NaN</td>\n",
       "      <td>NaN</td>\n",
       "      <td>NaN</td>\n",
       "      <td>NaN</td>\n",
       "      <td>NaN</td>\n",
       "      <td>NaN</td>\n",
       "      <td>NaN</td>\n",
       "      <td>...</td>\n",
       "      <td>NaN</td>\n",
       "      <td>NaN</td>\n",
       "      <td>NaN</td>\n",
       "      <td>NaN</td>\n",
       "      <td>NaN</td>\n",
       "      <td>NaN</td>\n",
       "      <td>NaN</td>\n",
       "      <td>NaN</td>\n",
       "      <td>NaN</td>\n",
       "      <td>NaN</td>\n",
       "    </tr>\n",
       "    <tr>\n",
       "      <th>1962-04</th>\n",
       "      <td>NaN</td>\n",
       "      <td>NaN</td>\n",
       "      <td>NaN</td>\n",
       "      <td>NaN</td>\n",
       "      <td>NaN</td>\n",
       "      <td>NaN</td>\n",
       "      <td>NaN</td>\n",
       "      <td>NaN</td>\n",
       "      <td>NaN</td>\n",
       "      <td>NaN</td>\n",
       "      <td>...</td>\n",
       "      <td>NaN</td>\n",
       "      <td>NaN</td>\n",
       "      <td>NaN</td>\n",
       "      <td>NaN</td>\n",
       "      <td>NaN</td>\n",
       "      <td>NaN</td>\n",
       "      <td>NaN</td>\n",
       "      <td>NaN</td>\n",
       "      <td>NaN</td>\n",
       "      <td>NaN</td>\n",
       "    </tr>\n",
       "    <tr>\n",
       "      <th>1962-05</th>\n",
       "      <td>NaN</td>\n",
       "      <td>NaN</td>\n",
       "      <td>NaN</td>\n",
       "      <td>NaN</td>\n",
       "      <td>NaN</td>\n",
       "      <td>NaN</td>\n",
       "      <td>NaN</td>\n",
       "      <td>NaN</td>\n",
       "      <td>NaN</td>\n",
       "      <td>NaN</td>\n",
       "      <td>...</td>\n",
       "      <td>NaN</td>\n",
       "      <td>NaN</td>\n",
       "      <td>NaN</td>\n",
       "      <td>NaN</td>\n",
       "      <td>NaN</td>\n",
       "      <td>NaN</td>\n",
       "      <td>NaN</td>\n",
       "      <td>NaN</td>\n",
       "      <td>NaN</td>\n",
       "      <td>NaN</td>\n",
       "    </tr>\n",
       "    <tr>\n",
       "      <th>1962-06</th>\n",
       "      <td>NaN</td>\n",
       "      <td>NaN</td>\n",
       "      <td>NaN</td>\n",
       "      <td>NaN</td>\n",
       "      <td>NaN</td>\n",
       "      <td>NaN</td>\n",
       "      <td>NaN</td>\n",
       "      <td>NaN</td>\n",
       "      <td>NaN</td>\n",
       "      <td>NaN</td>\n",
       "      <td>...</td>\n",
       "      <td>NaN</td>\n",
       "      <td>NaN</td>\n",
       "      <td>NaN</td>\n",
       "      <td>NaN</td>\n",
       "      <td>NaN</td>\n",
       "      <td>NaN</td>\n",
       "      <td>NaN</td>\n",
       "      <td>NaN</td>\n",
       "      <td>NaN</td>\n",
       "      <td>NaN</td>\n",
       "    </tr>\n",
       "    <tr>\n",
       "      <th>1962-07</th>\n",
       "      <td>NaN</td>\n",
       "      <td>NaN</td>\n",
       "      <td>NaN</td>\n",
       "      <td>NaN</td>\n",
       "      <td>NaN</td>\n",
       "      <td>NaN</td>\n",
       "      <td>NaN</td>\n",
       "      <td>NaN</td>\n",
       "      <td>NaN</td>\n",
       "      <td>NaN</td>\n",
       "      <td>...</td>\n",
       "      <td>NaN</td>\n",
       "      <td>NaN</td>\n",
       "      <td>NaN</td>\n",
       "      <td>NaN</td>\n",
       "      <td>NaN</td>\n",
       "      <td>NaN</td>\n",
       "      <td>NaN</td>\n",
       "      <td>NaN</td>\n",
       "      <td>NaN</td>\n",
       "      <td>NaN</td>\n",
       "    </tr>\n",
       "  </tbody>\n",
       "</table>\n",
       "<p>5 rows × 101 columns</p>\n",
       "</div>"
      ],
      "text/plain": [
       "         005930.KS  2222.SR  600519.SS  AAPL  ABBV  ABNB  ABT  ADA-USD  ADBE  \\\n",
       "Date                                                                           \n",
       "1962-03        NaN      NaN        NaN   NaN   NaN   NaN  NaN      NaN   NaN   \n",
       "1962-04        NaN      NaN        NaN   NaN   NaN   NaN  NaN      NaN   NaN   \n",
       "1962-05        NaN      NaN        NaN   NaN   NaN   NaN  NaN      NaN   NaN   \n",
       "1962-06        NaN      NaN        NaN   NaN   NaN   NaN  NaN      NaN   NaN   \n",
       "1962-07        NaN      NaN        NaN   NaN   NaN   NaN  NaN      NaN   NaN   \n",
       "\n",
       "         ADI  ...   V  VEA  VTI  VZ  WBA  WMT  XLM-USD  XMR-USD  XOM  XRP-USD  \n",
       "Date          ...                                                              \n",
       "1962-03  NaN  ... NaN  NaN  NaN NaN  NaN  NaN      NaN      NaN  NaN      NaN  \n",
       "1962-04  NaN  ... NaN  NaN  NaN NaN  NaN  NaN      NaN      NaN  NaN      NaN  \n",
       "1962-05  NaN  ... NaN  NaN  NaN NaN  NaN  NaN      NaN      NaN  NaN      NaN  \n",
       "1962-06  NaN  ... NaN  NaN  NaN NaN  NaN  NaN      NaN      NaN  NaN      NaN  \n",
       "1962-07  NaN  ... NaN  NaN  NaN NaN  NaN  NaN      NaN      NaN  NaN      NaN  \n",
       "\n",
       "[5 rows x 101 columns]"
      ]
     },
     "execution_count": 80,
     "metadata": {},
     "output_type": "execute_result"
    }
   ],
   "source": [
    "df.head()"
   ]
  },
  {
   "cell_type": "code",
   "execution_count": 81,
   "id": "ec494784",
   "metadata": {},
   "outputs": [
    {
     "data": {
      "text/plain": [
       "Date\n",
       "1962-03    -0.777853\n",
       "1962-04   -14.781827\n",
       "1962-05   -13.546219\n",
       "1962-06   -13.553293\n",
       "1962-07    14.075288\n",
       "Name: IBM, dtype: float64"
      ]
     },
     "execution_count": 81,
     "metadata": {},
     "output_type": "execute_result"
    }
   ],
   "source": [
    "df.iloc[:5]['IBM']"
   ]
  },
  {
   "cell_type": "code",
   "execution_count": 82,
   "id": "7d6ce675",
   "metadata": {},
   "outputs": [
    {
     "data": {
      "text/html": [
       "<div>\n",
       "<style scoped>\n",
       "    .dataframe tbody tr th:only-of-type {\n",
       "        vertical-align: middle;\n",
       "    }\n",
       "\n",
       "    .dataframe tbody tr th {\n",
       "        vertical-align: top;\n",
       "    }\n",
       "\n",
       "    .dataframe thead th {\n",
       "        text-align: right;\n",
       "    }\n",
       "</style>\n",
       "<table border=\"1\" class=\"dataframe\">\n",
       "  <thead>\n",
       "    <tr style=\"text-align: right;\">\n",
       "      <th></th>\n",
       "      <th>005930.KS</th>\n",
       "      <th>2222.SR</th>\n",
       "      <th>600519.SS</th>\n",
       "      <th>AAPL</th>\n",
       "      <th>ABBV</th>\n",
       "      <th>ABNB</th>\n",
       "      <th>ABT</th>\n",
       "      <th>ADA-USD</th>\n",
       "      <th>ADBE</th>\n",
       "      <th>ADI</th>\n",
       "      <th>...</th>\n",
       "      <th>V</th>\n",
       "      <th>VEA</th>\n",
       "      <th>VTI</th>\n",
       "      <th>VZ</th>\n",
       "      <th>WBA</th>\n",
       "      <th>WMT</th>\n",
       "      <th>XLM-USD</th>\n",
       "      <th>XMR-USD</th>\n",
       "      <th>XOM</th>\n",
       "      <th>XRP-USD</th>\n",
       "    </tr>\n",
       "    <tr>\n",
       "      <th>Date</th>\n",
       "      <th></th>\n",
       "      <th></th>\n",
       "      <th></th>\n",
       "      <th></th>\n",
       "      <th></th>\n",
       "      <th></th>\n",
       "      <th></th>\n",
       "      <th></th>\n",
       "      <th></th>\n",
       "      <th></th>\n",
       "      <th></th>\n",
       "      <th></th>\n",
       "      <th></th>\n",
       "      <th></th>\n",
       "      <th></th>\n",
       "      <th></th>\n",
       "      <th></th>\n",
       "      <th></th>\n",
       "      <th></th>\n",
       "      <th></th>\n",
       "      <th></th>\n",
       "    </tr>\n",
       "  </thead>\n",
       "  <tbody>\n",
       "    <tr>\n",
       "      <th>2022-07</th>\n",
       "      <td>8.377966</td>\n",
       "      <td>2.448456</td>\n",
       "      <td>-6.164839</td>\n",
       "      <td>18.863362</td>\n",
       "      <td>-6.300597</td>\n",
       "      <td>24.584644</td>\n",
       "      <td>0.174873</td>\n",
       "      <td>12.677585</td>\n",
       "      <td>12.036278</td>\n",
       "      <td>17.708278</td>\n",
       "      <td>...</td>\n",
       "      <td>7.730206</td>\n",
       "      <td>6.679218</td>\n",
       "      <td>9.783913</td>\n",
       "      <td>-8.985216</td>\n",
       "      <td>4.538254</td>\n",
       "      <td>8.611614</td>\n",
       "      <td>5.212997</td>\n",
       "      <td>37.319939</td>\n",
       "      <td>13.183090</td>\n",
       "      <td>14.786636</td>\n",
       "    </tr>\n",
       "    <tr>\n",
       "      <th>2022-08</th>\n",
       "      <td>-2.768735</td>\n",
       "      <td>-5.660373</td>\n",
       "      <td>1.346372</td>\n",
       "      <td>-3.255183</td>\n",
       "      <td>-5.429781</td>\n",
       "      <td>1.928275</td>\n",
       "      <td>-5.268042</td>\n",
       "      <td>-13.607791</td>\n",
       "      <td>-8.943722</td>\n",
       "      <td>-11.880675</td>\n",
       "      <td>...</td>\n",
       "      <td>-6.317472</td>\n",
       "      <td>-5.819367</td>\n",
       "      <td>-3.728483</td>\n",
       "      <td>-8.343764</td>\n",
       "      <td>-11.509335</td>\n",
       "      <td>0.378646</td>\n",
       "      <td>-11.470707</td>\n",
       "      <td>-3.757130</td>\n",
       "      <td>-1.382439</td>\n",
       "      <td>-13.822284</td>\n",
       "    </tr>\n",
       "    <tr>\n",
       "      <th>2022-09</th>\n",
       "      <td>-11.055271</td>\n",
       "      <td>-3.613675</td>\n",
       "      <td>-2.676715</td>\n",
       "      <td>-11.975600</td>\n",
       "      <td>-0.185929</td>\n",
       "      <td>-7.142859</td>\n",
       "      <td>-5.737941</td>\n",
       "      <td>-2.742769</td>\n",
       "      <td>-26.306767</td>\n",
       "      <td>-7.602045</td>\n",
       "      <td>...</td>\n",
       "      <td>-10.440022</td>\n",
       "      <td>-10.133454</td>\n",
       "      <td>-9.614220</td>\n",
       "      <td>-9.184402</td>\n",
       "      <td>-9.374895</td>\n",
       "      <td>-1.723977</td>\n",
       "      <td>9.738578</td>\n",
       "      <td>-1.154516</td>\n",
       "      <td>-7.774532</td>\n",
       "      <td>46.330552</td>\n",
       "    </tr>\n",
       "    <tr>\n",
       "      <th>2022-10</th>\n",
       "      <td>12.633033</td>\n",
       "      <td>-3.068329</td>\n",
       "      <td>-27.903872</td>\n",
       "      <td>10.955140</td>\n",
       "      <td>9.082771</td>\n",
       "      <td>1.780277</td>\n",
       "      <td>2.252996</td>\n",
       "      <td>-6.463417</td>\n",
       "      <td>15.734006</td>\n",
       "      <td>2.353954</td>\n",
       "      <td>...</td>\n",
       "      <td>16.611322</td>\n",
       "      <td>6.400850</td>\n",
       "      <td>8.571764</td>\n",
       "      <td>-1.580199</td>\n",
       "      <td>16.242042</td>\n",
       "      <td>9.737861</td>\n",
       "      <td>-2.634779</td>\n",
       "      <td>1.248424</td>\n",
       "      <td>26.915581</td>\n",
       "      <td>-2.888653</td>\n",
       "    </tr>\n",
       "    <tr>\n",
       "      <th>2022-11</th>\n",
       "      <td>2.693603</td>\n",
       "      <td>-3.884886</td>\n",
       "      <td>14.740741</td>\n",
       "      <td>-1.480357</td>\n",
       "      <td>9.980779</td>\n",
       "      <td>-9.615570</td>\n",
       "      <td>7.661449</td>\n",
       "      <td>-23.235449</td>\n",
       "      <td>5.425431</td>\n",
       "      <td>18.636939</td>\n",
       "      <td>...</td>\n",
       "      <td>2.206020</td>\n",
       "      <td>11.278192</td>\n",
       "      <td>3.793228</td>\n",
       "      <td>5.902899</td>\n",
       "      <td>14.410945</td>\n",
       "      <td>7.089156</td>\n",
       "      <td>-21.907982</td>\n",
       "      <td>-10.190525</td>\n",
       "      <td>2.526857</td>\n",
       "      <td>-19.285493</td>\n",
       "    </tr>\n",
       "  </tbody>\n",
       "</table>\n",
       "<p>5 rows × 101 columns</p>\n",
       "</div>"
      ],
      "text/plain": [
       "         005930.KS   2222.SR  600519.SS       AAPL      ABBV       ABNB  \\\n",
       "Date                                                                      \n",
       "2022-07   8.377966  2.448456  -6.164839  18.863362 -6.300597  24.584644   \n",
       "2022-08  -2.768735 -5.660373   1.346372  -3.255183 -5.429781   1.928275   \n",
       "2022-09 -11.055271 -3.613675  -2.676715 -11.975600 -0.185929  -7.142859   \n",
       "2022-10  12.633033 -3.068329 -27.903872  10.955140  9.082771   1.780277   \n",
       "2022-11   2.693603 -3.884886  14.740741  -1.480357  9.980779  -9.615570   \n",
       "\n",
       "              ABT    ADA-USD       ADBE        ADI  ...          V        VEA  \\\n",
       "Date                                                ...                         \n",
       "2022-07  0.174873  12.677585  12.036278  17.708278  ...   7.730206   6.679218   \n",
       "2022-08 -5.268042 -13.607791  -8.943722 -11.880675  ...  -6.317472  -5.819367   \n",
       "2022-09 -5.737941  -2.742769 -26.306767  -7.602045  ... -10.440022 -10.133454   \n",
       "2022-10  2.252996  -6.463417  15.734006   2.353954  ...  16.611322   6.400850   \n",
       "2022-11  7.661449 -23.235449   5.425431  18.636939  ...   2.206020  11.278192   \n",
       "\n",
       "              VTI        VZ        WBA       WMT    XLM-USD    XMR-USD  \\\n",
       "Date                                                                     \n",
       "2022-07  9.783913 -8.985216   4.538254  8.611614   5.212997  37.319939   \n",
       "2022-08 -3.728483 -8.343764 -11.509335  0.378646 -11.470707  -3.757130   \n",
       "2022-09 -9.614220 -9.184402  -9.374895 -1.723977   9.738578  -1.154516   \n",
       "2022-10  8.571764 -1.580199  16.242042  9.737861  -2.634779   1.248424   \n",
       "2022-11  3.793228  5.902899  14.410945  7.089156 -21.907982 -10.190525   \n",
       "\n",
       "               XOM    XRP-USD  \n",
       "Date                           \n",
       "2022-07  13.183090  14.786636  \n",
       "2022-08  -1.382439 -13.822284  \n",
       "2022-09  -7.774532  46.330552  \n",
       "2022-10  26.915581  -2.888653  \n",
       "2022-11   2.526857 -19.285493  \n",
       "\n",
       "[5 rows x 101 columns]"
      ]
     },
     "execution_count": 82,
     "metadata": {},
     "output_type": "execute_result"
    }
   ],
   "source": [
    "df.iloc[-5:]"
   ]
  },
  {
   "cell_type": "code",
   "execution_count": 83,
   "id": "afd3d037",
   "metadata": {},
   "outputs": [
    {
     "data": {
      "text/plain": [
       "0"
      ]
     },
     "execution_count": 83,
     "metadata": {},
     "output_type": "execute_result"
    }
   ],
   "source": [
    "df.iloc[-1].isna().sum()"
   ]
  },
  {
   "cell_type": "markdown",
   "id": "6fc91966",
   "metadata": {},
   "source": [
    "## Extracting the mean-variance analysis data"
   ]
  },
  {
   "cell_type": "markdown",
   "id": "f4520179",
   "metadata": {},
   "source": [
    "For the basic mean-variance analysis used by the app, we want to extract from the data each tickers' long name (or short name if not possible), annualized mean monthly return, the variance of these monthly returns, and their covariances with respect to each of the other assets. To calculate the covariances between any two of the assets, the developer first chose to find the earliest data both assets had valid (non-NaN) data and only calculate the covariance over the periods where both assets have data, which the intention that this may better capture the diversification that mean-variance analysis aims for. Note that this affects the accuracy of the data and may not be a standard calculation for the ex post Sharpe ratio - this choice is again subject to the disclaimer above (see the [Terms of Service](https://meanvarianceanalyzermain.gatsbyjs.io/terms))."
   ]
  },
  {
   "cell_type": "code",
   "execution_count": 84,
   "id": "8b126290",
   "metadata": {},
   "outputs": [],
   "source": [
    "firstValidMonthDict = dict()\n",
    "for ticker in assetTickers:\n",
    "    firstValidMonthDict[ticker] = df[ticker].notna().idxmax()"
   ]
  },
  {
   "cell_type": "markdown",
   "id": "ec98a982",
   "metadata": {},
   "source": [
    "Now we use the DataFrame of historical monthly returns to create a dictionary containing the annualized mean return and variance of each asset over its max period and the covariance between each asset and each other asset that comes later than it in alphabetical order over the periods where they both have valid data. "
   ]
  },
  {
   "cell_type": "code",
   "execution_count": 109,
   "id": "eac9948f",
   "metadata": {},
   "outputs": [
    {
     "name": "stdout",
     "output_type": "stream",
     "text": [
      "Wall time: 2min 7s\n"
     ]
    }
   ],
   "source": [
    "%%time\n",
    "assetDataDict = dict()\n",
    "for i in range(len(assetTickers)-1): # Calculate covariances for all except last asset (alphabetical order)\n",
    "    assetVar = 12 * df[assetTickers[i]].std()**2 # Annualized %: multiply by 12 months/year\n",
    "    assetMean = 12 * df[assetTickers[i]].mean()\n",
    "    \n",
    "    assetInfo = yf.Ticker(assetTickers[i]).info\n",
    "    if 'longName' in assetInfo and assetInfo['longName']:\n",
    "        assetTitle = assetInfo['longName']\n",
    "    else:\n",
    "        assetTitle = assetInfo['shortName']\n",
    "        \n",
    "    assetDataDict[assetTickers[i]] = {'title': assetTitle, 'annRetPct': assetMean, \n",
    "                                      'annVar': assetVar, 'cov': {}}\n",
    "    \n",
    "    for j in range(i+1, len(assetTickers)):\n",
    "        startDate = max(firstValidMonthDict[assetTickers[i]], firstValidMonthDict[assetTickers[j]])\n",
    "        assetCov = df[[assetTickers[i], assetTickers[j]]].loc[startDate:].cov().iloc[0, 1]\n",
    "        assetDataDict[assetTickers[i]]['cov'][assetTickers[j]] = 12 * assetCov\n",
    "\n",
    "# Calculate values for last asset (alphabetical order)\n",
    "assetVar = 12 * df[assetTickers[-1]].std()**2\n",
    "assetMean = 12 * df[assetTickers[-1]].mean()\n",
    "\n",
    "assetInfo = yf.Ticker(assetTickers[-1]).info\n",
    "if 'longName' in assetInfo and assetInfo['longName']:\n",
    "    assetTitle = assetInfo['longName']\n",
    "else:\n",
    "    assetTitle = assetInfo['shortName']\n",
    "        \n",
    "assetDataDict[assetTickers[-1]] = {'title': assetTitle, 'annRetPct': assetMean, \n",
    "                                  'annVar': assetVar}"
   ]
  },
  {
   "cell_type": "code",
   "execution_count": 117,
   "id": "d76912f6",
   "metadata": {},
   "outputs": [
    {
     "name": "stdout",
     "output_type": "stream",
     "text": [
      "{'title': 'Monero USD', 'annRetPct': 165.8368470714276, 'annVar': 37150.18758084561, 'cov': {'XOM': -75.66642286219667, 'XRP-USD': 17823.68418609792}}\n",
      "{'title': 'XRP USD', 'annRetPct': 255.16571242423956, 'annVar': 129560.28442044015}\n"
     ]
    }
   ],
   "source": [
    "print(assetDataDict['XMR-USD'])\n",
    "print(assetDataDict['XRP-USD'])"
   ]
  },
  {
   "cell_type": "markdown",
   "id": "8f923529",
   "metadata": {},
   "source": [
    "## Export dictionary as JSON file"
   ]
  },
  {
   "cell_type": "markdown",
   "id": "1f189b49",
   "metadata": {},
   "source": [
    "Now we can export the dictionary with the data required to calculate the ex post Sharpe ratio as a JSON file to the data folder of Mean-Variance Analyzer."
   ]
  },
  {
   "cell_type": "code",
   "execution_count": 111,
   "id": "3ec4f319",
   "metadata": {},
   "outputs": [],
   "source": [
    "with open(\"../mean-variance-analyzer/data/asset-data.json\", \"w\") as f:\n",
    "    json.dump(assetDataDict, f, indent=2)"
   ]
  },
  {
   "cell_type": "code",
   "execution_count": null,
   "id": "7ca019e8",
   "metadata": {},
   "outputs": [],
   "source": []
  }
 ],
 "metadata": {
  "kernelspec": {
   "display_name": "Python 3 (ipykernel)",
   "language": "python",
   "name": "python3"
  },
  "language_info": {
   "codemirror_mode": {
    "name": "ipython",
    "version": 3
   },
   "file_extension": ".py",
   "mimetype": "text/x-python",
   "name": "python",
   "nbconvert_exporter": "python",
   "pygments_lexer": "ipython3",
   "version": "3.7.11"
  }
 },
 "nbformat": 4,
 "nbformat_minor": 5
}
