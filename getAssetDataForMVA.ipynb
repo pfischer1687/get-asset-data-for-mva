{
 "cells": [
  {
   "cell_type": "markdown",
   "id": "cd4fdfb2",
   "metadata": {},
   "source": [
    "# Create `asset-data.json` file for Mean-Variance Analyzer"
   ]
  },
  {
   "cell_type": "markdown",
   "id": "288e07c8",
   "metadata": {},
   "source": [
    "In this notebook, we get and clean the financial market data that will be preloaded as `asset-data.json` in the \"Mean-Variance Analyzer\" web app ([view live site](https://mvanalyzer.dev/)).\n",
    "\n",
    "Last run: 4/27/2023"
   ]
  },
  {
   "cell_type": "code",
   "execution_count": 1,
   "id": "921fc3a7",
   "metadata": {},
   "outputs": [],
   "source": [
    "import pandas as pd\n",
    "import yfinance as yf\n",
    "import json"
   ]
  },
  {
   "cell_type": "markdown",
   "id": "dbfc9628",
   "metadata": {},
   "source": [
    "## Getting monthly adjusted close % return for assets"
   ]
  },
  {
   "cell_type": "markdown",
   "id": "f5f9c500",
   "metadata": {},
   "source": [
    "We start by getting the financial market data via the yfinance API. We then sort it in alphabetical order - this allows us to store the information needed to recreate the covariance matrix for these assets on the client's device in a file approximately half the size (since the matrix is symmetric - please see the site's [Background](https://mvanalyzer.dev/background/) page for more information on the covariance matrix and how other quantities contained in this dataset are used in the app). We have chosen 189 popular assets for our demo data including stocks, ETFs, cryptocurrencies and more."
   ]
  },
  {
   "cell_type": "code",
   "execution_count": 2,
   "id": "bae7f829",
   "metadata": {},
   "outputs": [],
   "source": [
    "assetTickers = ['005930.KS', '2222.SR', 'AAPL', 'ABBV', 'ABNB', 'ABT', 'ADA-USD', 'ADBE', 'ADI', 'ADP', 'ADSK', 'AEP', \n",
    "                'AJRD', 'AMAGX', 'AMANX', 'AMAT', 'AMD', 'AMGN', 'AMZN', 'APO', 'AR', 'ASML', 'ASTS', 'ATVI', 'AVGO', \n",
    "                'AXP', 'B', 'BA', 'BABA', 'BAC', 'BHVN', 'BJ', 'BKNG', 'BLK', 'BMY', 'BNB-USD', 'BNP.PA', 'BRK-B', \n",
    "                'BTC-USD', 'BX', 'C', 'CAR', 'CAT', 'CDNS', 'CHK', 'CHTR', 'CL=F', 'CMCSA', 'COIN', 'COST', 'CRM', \n",
    "                'CSCO', 'CSX', 'CTAS', 'CVS', 'CVX', 'DBX', 'DELL', 'DIS', 'DOGE-USD', 'DOT-USD', 'DOW', 'DXCM', \n",
    "                'EBAY', 'ETC-USD', 'ETH-USD', 'EURUSD=X', 'FIS', 'FISV', 'FTNT', 'GBPUSD=X', 'GC=F', 'GD', 'GE', \n",
    "                'GILD', 'GLD', 'GOOG', 'GOOGL', 'GS', 'GSAT', 'HD', 'HLAL', 'HON', 'HOOD', 'HPQ', 'HWM', 'IBM', 'IBN', \n",
    "                'INTC', 'INTU', 'IVZ', 'JD', 'JNJ', 'JOBY', 'JPM', 'JPY=X', 'KAMN', 'KKR', 'KO', 'LLY', \n",
    "                'LTC-USD', 'LYFT', 'MA', 'MATIC-USD', 'MC.PA', 'MCD', 'META', 'MMM', 'MRK', 'MS', 'MSFT', 'MUFG', \n",
    "                'NESN.SW', 'NFLX', 'NKE', 'NOC', 'NOK', 'NU', 'NVDA', 'NVO', 'ORCL', 'OVV', 'PANW', 'PDD', 'PEP', \n",
    "                'PFE', 'PFGC', 'PG', 'PL', 'PNC', 'PYPL', 'QCOM', 'RKLB', 'ROG.SW', 'RTX', 'SAP', 'SCHW', 'SCU', \n",
    "                'SHOP', 'SI=F', 'SOFI', 'SOL-USD', 'SONY', 'SPCE', 'SPGI', 'SPR', 'SPUS', 'SPY', 'SQ', 'SWN', 'TCEHY', \n",
    "                'TDG', 'TEAM', 'TGI', 'TMO', 'TRV', 'TRX-USD', 'TSLA', 'TSM', 'TTEK', 'TXN', 'UBER', 'UNH', 'USB', \n",
    "                'V', 'VEA', 'VMW', 'VORB', 'VTI', 'VTOL', 'VZ', 'WBA', 'WFC', 'WIZEY', 'WMT', 'WSC', 'XLM-USD', \n",
    "                'XMR-USD', 'XOM', 'XRP-USD', '^CMC200', '^DJI', '^FTSE', '^GSPC', '^IXIC', '^N225', '^RUT', '^TNX', \n",
    "                '^TYX']\n",
    "\n",
    "assetTickers.sort()"
   ]
  },
  {
   "cell_type": "code",
   "execution_count": 3,
   "id": "45b366a8",
   "metadata": {},
   "outputs": [
    {
     "name": "stdout",
     "output_type": "stream",
     "text": [
      "189\n",
      "189\n"
     ]
    }
   ],
   "source": [
    "print(len(assetTickers)) # Check that it contains 189 assets\n",
    "print(len(set(assetTickers))) # Check that it contains 189 unique assets"
   ]
  },
  {
   "cell_type": "markdown",
   "id": "af721eb3",
   "metadata": {},
   "source": [
    "Now that we have the tickers for our assets of interest, let us make a pandas DataFrame of the monthly % return of the adjusted close price over the max period of our assets' data as provided by the yfinance API. We are cleaning the data by first forward filling all NaN values for close prices and then dropping any dates that are before ALL assets have data. This is one of the multiple choices in this document made by the developer that will inevitably affect the accuracy of the results - note that we are not liable for the accuracy of this data nor its resulting information as per the site's [Terms of Service](https://mvanalyzer.dev/terms/). This data is also only up to the month before running this code and will be stale after that - it is only meant for educational demonstration and not as financial advice."
   ]
  },
  {
   "cell_type": "code",
   "execution_count": 4,
   "id": "4ab0ba23",
   "metadata": {},
   "outputs": [
    {
     "name": "stdout",
     "output_type": "stream",
     "text": [
      "Wall time: 49.6 s\n"
     ]
    }
   ],
   "source": [
    "%%time\n",
    "df = pd.DataFrame()\n",
    "for ticker in assetTickers:\n",
    "    # Get monthly max period close data\n",
    "    tmpDf = pd.DataFrame(yf.Ticker(ticker).history(period=\"max\", interval=\"1mo\")[\"Close\"]).rename(\n",
    "        columns={\"Close\":ticker})\n",
    "    \n",
    "    # Format for monthly index using the last datum of each month\n",
    "    tmpDf.index = tmpDf.index.strftime('%Y-%m')\n",
    "    tmpDf = tmpDf[~tmpDf.index.duplicated(keep='last')]\n",
    "    \n",
    "    df = df.join(tmpDf, how='outer')\n",
    "\n",
    "# clean data\n",
    "df.fillna(method='ffill', inplace=True)\n",
    "df.dropna(how='all', inplace=True)\n",
    "df.drop(df.index[-1], inplace=True) # delete data from last month that hasn't finished yet\n",
    "\n",
    "# get monthly pct return\n",
    "df = df.pct_change()[1:] * 100"
   ]
  },
  {
   "cell_type": "code",
   "execution_count": 27,
   "id": "fc545422",
   "metadata": {},
   "outputs": [
    {
     "data": {
      "text/plain": [
       "Date\n",
       "1962-03     3.015058\n",
       "1962-04   -10.322224\n",
       "1962-05    -4.014541\n",
       "1962-06    -9.505765\n",
       "1962-07    12.421094\n",
       "Name: GE, dtype: float64"
      ]
     },
     "execution_count": 27,
     "metadata": {},
     "output_type": "execute_result"
    }
   ],
   "source": [
    "assets_with_oldest_data = df.columns[~df.iloc[0].isnull()]\n",
    "\n",
    "df[assets_with_oldest_data[0]].head()"
   ]
  },
  {
   "cell_type": "code",
   "execution_count": 28,
   "id": "dc46a07b",
   "metadata": {},
   "outputs": [
    {
     "data": {
      "text/html": [
       "<div>\n",
       "<style scoped>\n",
       "    .dataframe tbody tr th:only-of-type {\n",
       "        vertical-align: middle;\n",
       "    }\n",
       "\n",
       "    .dataframe tbody tr th {\n",
       "        vertical-align: top;\n",
       "    }\n",
       "\n",
       "    .dataframe thead th {\n",
       "        text-align: right;\n",
       "    }\n",
       "</style>\n",
       "<table border=\"1\" class=\"dataframe\">\n",
       "  <thead>\n",
       "    <tr style=\"text-align: right;\">\n",
       "      <th></th>\n",
       "      <th>005930.KS</th>\n",
       "      <th>2222.SR</th>\n",
       "      <th>AAPL</th>\n",
       "      <th>ABBV</th>\n",
       "      <th>ABNB</th>\n",
       "      <th>ABT</th>\n",
       "      <th>ADA-USD</th>\n",
       "      <th>ADBE</th>\n",
       "      <th>ADI</th>\n",
       "      <th>ADP</th>\n",
       "      <th>...</th>\n",
       "      <th>XRP-USD</th>\n",
       "      <th>^CMC200</th>\n",
       "      <th>^DJI</th>\n",
       "      <th>^FTSE</th>\n",
       "      <th>^GSPC</th>\n",
       "      <th>^IXIC</th>\n",
       "      <th>^N225</th>\n",
       "      <th>^RUT</th>\n",
       "      <th>^TNX</th>\n",
       "      <th>^TYX</th>\n",
       "    </tr>\n",
       "    <tr>\n",
       "      <th>Date</th>\n",
       "      <th></th>\n",
       "      <th></th>\n",
       "      <th></th>\n",
       "      <th></th>\n",
       "      <th></th>\n",
       "      <th></th>\n",
       "      <th></th>\n",
       "      <th></th>\n",
       "      <th></th>\n",
       "      <th></th>\n",
       "      <th></th>\n",
       "      <th></th>\n",
       "      <th></th>\n",
       "      <th></th>\n",
       "      <th></th>\n",
       "      <th></th>\n",
       "      <th></th>\n",
       "      <th></th>\n",
       "      <th></th>\n",
       "      <th></th>\n",
       "      <th></th>\n",
       "    </tr>\n",
       "  </thead>\n",
       "  <tbody>\n",
       "    <tr>\n",
       "      <th>2022-11</th>\n",
       "      <td>4.713803</td>\n",
       "      <td>-4.460431</td>\n",
       "      <td>-3.462901</td>\n",
       "      <td>11.215906</td>\n",
       "      <td>-4.461701</td>\n",
       "      <td>9.245602</td>\n",
       "      <td>-21.522338</td>\n",
       "      <td>8.298271</td>\n",
       "      <td>20.537098</td>\n",
       "      <td>9.284240</td>\n",
       "      <td>...</td>\n",
       "      <td>-12.270908</td>\n",
       "      <td>-15.717265</td>\n",
       "      <td>5.672634</td>\n",
       "      <td>6.746072</td>\n",
       "      <td>5.375289</td>\n",
       "      <td>4.366973</td>\n",
       "      <td>1.382981</td>\n",
       "      <td>2.150676</td>\n",
       "      <td>-9.173413</td>\n",
       "      <td>-9.086583</td>\n",
       "    </tr>\n",
       "    <tr>\n",
       "      <th>2022-12</th>\n",
       "      <td>-11.093244</td>\n",
       "      <td>-2.419092</td>\n",
       "      <td>-12.081646</td>\n",
       "      <td>0.266786</td>\n",
       "      <td>-16.291364</td>\n",
       "      <td>2.054288</td>\n",
       "      <td>-22.709585</td>\n",
       "      <td>-2.435275</td>\n",
       "      <td>-4.583800</td>\n",
       "      <td>-9.570681</td>\n",
       "      <td>...</td>\n",
       "      <td>-16.835513</td>\n",
       "      <td>-6.312361</td>\n",
       "      <td>-4.170365</td>\n",
       "      <td>-1.603041</td>\n",
       "      <td>-5.897147</td>\n",
       "      <td>-8.733166</td>\n",
       "      <td>-6.702030</td>\n",
       "      <td>-6.643236</td>\n",
       "      <td>4.752900</td>\n",
       "      <td>4.003136</td>\n",
       "    </tr>\n",
       "    <tr>\n",
       "      <th>2023-01</th>\n",
       "      <td>11.724934</td>\n",
       "      <td>2.647985</td>\n",
       "      <td>11.052102</td>\n",
       "      <td>-8.576205</td>\n",
       "      <td>29.953217</td>\n",
       "      <td>0.692233</td>\n",
       "      <td>58.612551</td>\n",
       "      <td>10.046652</td>\n",
       "      <td>5.001122</td>\n",
       "      <td>-5.005379</td>\n",
       "      <td>...</td>\n",
       "      <td>19.551136</td>\n",
       "      <td>37.168548</td>\n",
       "      <td>2.832178</td>\n",
       "      <td>4.294322</td>\n",
       "      <td>6.175286</td>\n",
       "      <td>10.682381</td>\n",
       "      <td>4.723637</td>\n",
       "      <td>9.691409</td>\n",
       "      <td>-9.022942</td>\n",
       "      <td>-7.899369</td>\n",
       "    </tr>\n",
       "    <tr>\n",
       "      <th>2023-02</th>\n",
       "      <td>-1.302932</td>\n",
       "      <td>-3.490147</td>\n",
       "      <td>2.162316</td>\n",
       "      <td>5.152609</td>\n",
       "      <td>10.953108</td>\n",
       "      <td>-7.570733</td>\n",
       "      <td>-9.841248</td>\n",
       "      <td>-12.526323</td>\n",
       "      <td>6.998309</td>\n",
       "      <td>-2.652666</td>\n",
       "      <td>...</td>\n",
       "      <td>-7.194830</td>\n",
       "      <td>0.378965</td>\n",
       "      <td>-4.193329</td>\n",
       "      <td>1.345904</td>\n",
       "      <td>-2.611249</td>\n",
       "      <td>-1.113636</td>\n",
       "      <td>0.433457</td>\n",
       "      <td>-1.809060</td>\n",
       "      <td>10.966275</td>\n",
       "      <td>7.375034</td>\n",
       "    </tr>\n",
       "    <tr>\n",
       "      <th>2023-03</th>\n",
       "      <td>5.610561</td>\n",
       "      <td>1.572328</td>\n",
       "      <td>12.035662</td>\n",
       "      <td>3.554254</td>\n",
       "      <td>0.908503</td>\n",
       "      <td>-0.452220</td>\n",
       "      <td>13.184416</td>\n",
       "      <td>18.959710</td>\n",
       "      <td>7.994684</td>\n",
       "      <td>1.278311</td>\n",
       "      <td>...</td>\n",
       "      <td>42.779272</td>\n",
       "      <td>18.079322</td>\n",
       "      <td>1.890728</td>\n",
       "      <td>-3.105514</td>\n",
       "      <td>3.505161</td>\n",
       "      <td>6.689952</td>\n",
       "      <td>2.171280</td>\n",
       "      <td>-4.982104</td>\n",
       "      <td>-10.776301</td>\n",
       "      <td>-6.156197</td>\n",
       "    </tr>\n",
       "  </tbody>\n",
       "</table>\n",
       "<p>5 rows × 189 columns</p>\n",
       "</div>"
      ],
      "text/plain": [
       "         005930.KS   2222.SR       AAPL       ABBV       ABNB       ABT  \\\n",
       "Date                                                                      \n",
       "2022-11   4.713803 -4.460431  -3.462901  11.215906  -4.461701  9.245602   \n",
       "2022-12 -11.093244 -2.419092 -12.081646   0.266786 -16.291364  2.054288   \n",
       "2023-01  11.724934  2.647985  11.052102  -8.576205  29.953217  0.692233   \n",
       "2023-02  -1.302932 -3.490147   2.162316   5.152609  10.953108 -7.570733   \n",
       "2023-03   5.610561  1.572328  12.035662   3.554254   0.908503 -0.452220   \n",
       "\n",
       "           ADA-USD       ADBE        ADI       ADP  ...    XRP-USD    ^CMC200  \\\n",
       "Date                                                ...                         \n",
       "2022-11 -21.522338   8.298271  20.537098  9.284240  ... -12.270908 -15.717265   \n",
       "2022-12 -22.709585  -2.435275  -4.583800 -9.570681  ... -16.835513  -6.312361   \n",
       "2023-01  58.612551  10.046652   5.001122 -5.005379  ...  19.551136  37.168548   \n",
       "2023-02  -9.841248 -12.526323   6.998309 -2.652666  ...  -7.194830   0.378965   \n",
       "2023-03  13.184416  18.959710   7.994684  1.278311  ...  42.779272  18.079322   \n",
       "\n",
       "             ^DJI     ^FTSE     ^GSPC      ^IXIC     ^N225      ^RUT  \\\n",
       "Date                                                                   \n",
       "2022-11  5.672634  6.746072  5.375289   4.366973  1.382981  2.150676   \n",
       "2022-12 -4.170365 -1.603041 -5.897147  -8.733166 -6.702030 -6.643236   \n",
       "2023-01  2.832178  4.294322  6.175286  10.682381  4.723637  9.691409   \n",
       "2023-02 -4.193329  1.345904 -2.611249  -1.113636  0.433457 -1.809060   \n",
       "2023-03  1.890728 -3.105514  3.505161   6.689952  2.171280 -4.982104   \n",
       "\n",
       "              ^TNX      ^TYX  \n",
       "Date                          \n",
       "2022-11  -9.173413 -9.086583  \n",
       "2022-12   4.752900  4.003136  \n",
       "2023-01  -9.022942 -7.899369  \n",
       "2023-02  10.966275  7.375034  \n",
       "2023-03 -10.776301 -6.156197  \n",
       "\n",
       "[5 rows x 189 columns]"
      ]
     },
     "execution_count": 28,
     "metadata": {},
     "output_type": "execute_result"
    }
   ],
   "source": [
    "df.iloc[-5:]"
   ]
  },
  {
   "cell_type": "code",
   "execution_count": 29,
   "id": "40bea435",
   "metadata": {},
   "outputs": [
    {
     "data": {
      "text/plain": [
       "0"
      ]
     },
     "execution_count": 29,
     "metadata": {},
     "output_type": "execute_result"
    }
   ],
   "source": [
    "df.iloc[-1].isna().sum()"
   ]
  },
  {
   "cell_type": "markdown",
   "id": "a7387f10",
   "metadata": {},
   "source": [
    "## Extracting the mean-variance analysis data"
   ]
  },
  {
   "cell_type": "markdown",
   "id": "91050450",
   "metadata": {},
   "source": [
    "For the basic mean-variance analysis used by the app, we want to extract from the data each tickers' long name, annualized mean monthly % return, the variance of these returns, and the covariances of these returns with respect to those of each of the other assets. To calculate the covariances between any two of the assets, the developer first chose to find the earliest data both assets had valid (non-NaN) data and only calculate the covariance over the periods where both assets have data, with the intention that this may better capture the diversification that mean-variance analysis aims for (since the variance and average of each asset is calculated over its max period). Note that this affects the accuracy of the data and may not be part of the standard calculation of the ex post Sharpe ratio."
   ]
  },
  {
   "cell_type": "code",
   "execution_count": 30,
   "id": "15e32e83",
   "metadata": {},
   "outputs": [],
   "source": [
    "firstValidMonthDict = dict()\n",
    "for ticker in assetTickers:\n",
    "    firstValidMonthDict[ticker] = df[ticker].notna().idxmax()"
   ]
  },
  {
   "cell_type": "markdown",
   "id": "bb8fba8d",
   "metadata": {},
   "source": [
    "Now we use the DataFrame of historical monthly returns to create a dictionary containing the annualized mean return and variance of each asset over its max period and the covariance between each asset and each other asset that comes later than it in alphabetical order over the periods where they both have valid data. "
   ]
  },
  {
   "cell_type": "code",
   "execution_count": 31,
   "id": "c466516e",
   "metadata": {},
   "outputs": [
    {
     "name": "stdout",
     "output_type": "stream",
     "text": [
      "Wall time: 1min 23s\n"
     ]
    }
   ],
   "source": [
    "%%time\n",
    "assetDataDict = dict()\n",
    "for i in range(len(assetTickers)-1): # Calculate covariances for all except last asset (alphabetical order)\n",
    "    assetVar = 12 * (df[assetTickers[i]].std()**2) # Annualized %: multiply by 12 months/year\n",
    "    assetMean = 12 * df[assetTickers[i]].mean()\n",
    "    \n",
    "    assetInfo = yf.Ticker(assetTickers[i]).info\n",
    "    if 'longName' in assetInfo and assetInfo['longName']:\n",
    "        assetTitle = assetInfo['longName']\n",
    "    else:\n",
    "        assetTitle = assetInfo['shortName']\n",
    "        \n",
    "    assetDataDict[assetTickers[i]] = {'title': assetTitle, 'annRetPct': assetMean, \n",
    "                                      'annVar': assetVar, 'cov': {}}\n",
    "    \n",
    "    for j in range(i+1, len(assetTickers)):\n",
    "        startDate = max(firstValidMonthDict[assetTickers[i]], firstValidMonthDict[assetTickers[j]])\n",
    "        assetCov = df[[assetTickers[i], assetTickers[j]]].loc[startDate:].cov().iloc[0, 1]\n",
    "        assetDataDict[assetTickers[i]]['cov'][assetTickers[j]] = 12 * assetCov\n",
    "\n",
    "# Calculate values for last asset (alphabetical order)\n",
    "assetVar = 12 * (df[assetTickers[-1]].std()**2)\n",
    "assetMean = 12 * df[assetTickers[-1]].mean()\n",
    "\n",
    "assetInfo = yf.Ticker(assetTickers[-1]).info\n",
    "if 'longName' in assetInfo and assetInfo['longName']:\n",
    "    assetTitle = assetInfo['longName']\n",
    "else:\n",
    "    assetTitle = assetInfo['shortName']\n",
    "\n",
    "assetDataDict[assetTickers[-1]] = {'title': assetTitle, 'annRetPct': assetMean, \n",
    "                                  'annVar': assetVar}"
   ]
  },
  {
   "cell_type": "code",
   "execution_count": 32,
   "id": "23300336",
   "metadata": {},
   "outputs": [
    {
     "name": "stdout",
     "output_type": "stream",
     "text": [
      "{'title': 'Treasury Yield 10 Years', 'annRetPct': 1.010207723321614, 'annVar': 811.0913491705217, 'cov': {'^TYX': 552.9169091166535}}\n",
      "{'title': 'Treasury Yield 30 Years', 'annRetPct': -0.768824488479595, 'annVar': 428.88240956769164}\n"
     ]
    }
   ],
   "source": [
    "print(assetDataDict['^TNX'])\n",
    "print(assetDataDict['^TYX'])"
   ]
  },
  {
   "cell_type": "markdown",
   "id": "026c7ee6",
   "metadata": {},
   "source": [
    "## Export dictionary as JSON file"
   ]
  },
  {
   "cell_type": "markdown",
   "id": "bc0f64e4",
   "metadata": {},
   "source": [
    "Now we can export the dictionary with the data required by the [Mean-Variance Analyzer](https://mvanalyzer.dev/) web app as a JSON file to its data folder."
   ]
  },
  {
   "cell_type": "code",
   "execution_count": 35,
   "id": "1cdef13e",
   "metadata": {},
   "outputs": [],
   "source": [
    "with open(\"../mean-variance-analyzer/data/asset-data.json\", \"w\") as f:\n",
    "    json.dump(assetDataDict, f, indent=2)"
   ]
  },
  {
   "cell_type": "code",
   "execution_count": null,
   "id": "842c2309",
   "metadata": {},
   "outputs": [],
   "source": []
  }
 ],
 "metadata": {
  "kernelspec": {
   "display_name": "Python 3 (ipykernel)",
   "language": "python",
   "name": "python3"
  },
  "language_info": {
   "codemirror_mode": {
    "name": "ipython",
    "version": 3
   },
   "file_extension": ".py",
   "mimetype": "text/x-python",
   "name": "python",
   "nbconvert_exporter": "python",
   "pygments_lexer": "ipython3",
   "version": "3.7.11"
  }
 },
 "nbformat": 4,
 "nbformat_minor": 5
}
