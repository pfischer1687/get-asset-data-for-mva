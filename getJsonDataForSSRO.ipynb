{
 "cells": [
  {
   "cell_type": "markdown",
   "id": "fe0c7bd0",
   "metadata": {},
   "source": [
    "# Get JSON Data for \"Simple Sharpe Ratio Optimizer\""
   ]
  },
  {
   "cell_type": "markdown",
   "id": "dfd1fc3b",
   "metadata": {},
   "source": [
    "In this notebook, we get JSON data for \"simple Sharpe ratio optimizer\". Make this look academic, model thesis maybe."
   ]
  },
  {
   "cell_type": "code",
   "execution_count": 1,
   "id": "a70ffbda",
   "metadata": {},
   "outputs": [],
   "source": [
    "import pandas as pd\n",
    "import numpy as np\n",
    "import matplotlib.pyplot as plt\n",
    "import yfinance as yf"
   ]
  },
  {
   "cell_type": "markdown",
   "id": "eb835b5e",
   "metadata": {},
   "source": [
    "## Get data"
   ]
  },
  {
   "cell_type": "markdown",
   "id": "3c5b6efa",
   "metadata": {},
   "source": [
    "Let's get the data. Starting with test of 1st 10 tickers"
   ]
  },
  {
   "cell_type": "code",
   "execution_count": 2,
   "id": "c6aab9b4",
   "metadata": {},
   "outputs": [],
   "source": [
    "assetTickers = ['AAPL', 'CVX', 'HD', 'JNJ', 'JPM', 'MSFT', 'PG', 'UNH', 'V', 'WMT']"
   ]
  },
  {
   "cell_type": "markdown",
   "id": "60d7c190",
   "metadata": {},
   "source": [
    "Let's make DataFrame pandas of returns"
   ]
  },
  {
   "cell_type": "code",
   "execution_count": 3,
   "id": "eec37696",
   "metadata": {},
   "outputs": [],
   "source": [
    "df = pd.DataFrame()\n",
    "for ticker in assetTickers:\n",
    "    # Get monthly all time close data\n",
    "    tmpDf = pd.DataFrame(yf.Ticker(ticker).history(period=\"max\", interval=\"1mo\")[\"Close\"]).rename(columns={\"Close\":ticker})\n",
    "    \n",
    "    # Format for monthly index using the first datum of each month\n",
    "    tmpDf.index = tmpDf.index.strftime('%Y-%m')\n",
    "    tmpDf = tmpDf[~tmpDf.index.duplicated(keep='first')]\n",
    "    \n",
    "    df = df.join(tmpDf, how='outer')\n",
    "\n",
    "# clean data\n",
    "df.fillna(method='ffill', inplace=True)\n",
    "df.dropna(how='all', inplace=True)\n",
    "\n",
    "# get monthly pct return\n",
    "df = df.pct_change()[1:] * 100"
   ]
  },
  {
   "cell_type": "markdown",
   "id": "db0efcbd",
   "metadata": {},
   "source": [
    "## "
   ]
  }
 ],
 "metadata": {
  "kernelspec": {
   "display_name": "Python 3 (ipykernel)",
   "language": "python",
   "name": "python3"
  },
  "language_info": {
   "codemirror_mode": {
    "name": "ipython",
    "version": 3
   },
   "file_extension": ".py",
   "mimetype": "text/x-python",
   "name": "python",
   "nbconvert_exporter": "python",
   "pygments_lexer": "ipython3",
   "version": "3.7.11"
  }
 },
 "nbformat": 4,
 "nbformat_minor": 5
}
