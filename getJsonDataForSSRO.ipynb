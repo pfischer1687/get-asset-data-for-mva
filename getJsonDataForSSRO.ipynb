{
 "cells": [
  {
   "cell_type": "markdown",
   "id": "811e77dd",
   "metadata": {},
   "source": [
    "# Get JSON Data for \"Simple Sharpe Ratio Optimizer\""
   ]
  },
  {
   "cell_type": "markdown",
   "id": "3586d37e",
   "metadata": {},
   "source": [
    "In this notebook, we get JSON data for \"simple Sharpe ratio optimizer\". Make this look academic, model thesis maybe."
   ]
  },
  {
   "cell_type": "code",
   "execution_count": 1,
   "id": "43b2ff79",
   "metadata": {},
   "outputs": [],
   "source": [
    "import pandas as pd\n",
    "import numpy as np\n",
    "import matplotlib.pyplot as plt\n",
    "import yfinance as yf"
   ]
  },
  {
   "cell_type": "markdown",
   "id": "db4e5113",
   "metadata": {},
   "source": [
    "## Get data"
   ]
  },
  {
   "cell_type": "markdown",
   "id": "fcd81e5a",
   "metadata": {},
   "source": [
    "Let's get the data. Starting with test of 1st 10 tickers"
   ]
  },
  {
   "cell_type": "code",
   "execution_count": 2,
   "id": "cc04da1b",
   "metadata": {},
   "outputs": [],
   "source": [
    "assetTickers = ['AAPL', 'CVX', 'HD', 'JNJ', 'JPM', 'MSFT', 'PG', 'UNH', 'V', 'WMT']"
   ]
  },
  {
   "cell_type": "markdown",
   "id": "c9a72c4f",
   "metadata": {},
   "source": [
    "Let's make DataFrame pandas of returns"
   ]
  },
  {
   "cell_type": "code",
   "execution_count": 3,
   "id": "68c1b4d9",
   "metadata": {},
   "outputs": [],
   "source": [
    "df = pd.DataFrame()\n",
    "for ticker in assetTickers:\n",
    "    # Get monthly all time close data\n",
    "    tmpDf = pd.DataFrame(yf.Ticker(ticker).history(period=\"max\", interval=\"1mo\")[\"Close\"]).rename(columns={\"Close\":ticker})\n",
    "    \n",
    "    # Format for monthly index using the first datum of each month\n",
    "    tmpDf.index = tmpDf.index.strftime('%Y-%m')\n",
    "    tmpDf = tmpDf[~tmpDf.index.duplicated(keep='first')]\n",
    "    \n",
    "    df = df.join(tmpDf, how='outer')\n",
    "\n",
    "# clean data\n",
    "df.fillna(method='ffill', inplace=True)\n",
    "df.dropna(how='all', inplace=True)\n",
    "\n",
    "# get monthly pct return\n",
    "df = df.pct_change()[1:] * 100"
   ]
  },
  {
   "cell_type": "markdown",
   "id": "b230072c",
   "metadata": {},
   "source": [
    "## Get the data we need"
   ]
  },
  {
   "cell_type": "markdown",
   "id": "797368f4",
   "metadata": {},
   "source": [
    "Explain each step of how and why I cleaned the data. Explain that I'm doing below to specifically find how each stock directly covaries with each other one."
   ]
  },
  {
   "cell_type": "code",
   "execution_count": 4,
   "id": "61e20634",
   "metadata": {},
   "outputs": [],
   "source": [
    "firstValidMonthDict = dict()\n",
    "for ticker in assetTickers:\n",
    "    firstValidMonthDict[ticker] = df[ticker].notna().idxmax()"
   ]
  },
  {
   "cell_type": "markdown",
   "id": "eabf3618",
   "metadata": {},
   "source": [
    "So now we create the dict"
   ]
  },
  {
   "cell_type": "code",
   "execution_count": 5,
   "id": "6af0512e",
   "metadata": {},
   "outputs": [],
   "source": [
    "assetDataDict = dict()\n",
    "for i in range(len(assetTickers)-1):\n",
    "    assetVar = df[assetTickers[i]].std()**2\n",
    "    assetDataDict[assetTickers[i]] = {'var': assetVar, 'cov': {}}\n",
    "    for j in range(i+1, len(assetTickers)):\n",
    "        startDate = max(firstValidMonthDict[assetTickers[i]], firstValidMonthDict[assetTickers[j]])\n",
    "        assetCov = df[[assetTickers[i], assetTickers[j]]].loc[startDate:].cov().iloc[0,1]\n",
    "        assetDataDict[assetTickers[i]]['cov'][assetTickers[j]] = assetCov\n",
    "assetDataDict[assetTickers[-1]] = {'var': df[assetTickers[-1]].std()**2}"
   ]
  },
  {
   "cell_type": "markdown",
   "id": "fa4fc338",
   "metadata": {},
   "source": [
    "Probably want to discuss why I chose to collect the data in this way fully."
   ]
  },
  {
   "cell_type": "code",
   "execution_count": null,
   "id": "f41bbb0b",
   "metadata": {},
   "outputs": [],
   "source": []
  }
 ],
 "metadata": {
  "kernelspec": {
   "display_name": "Python 3 (ipykernel)",
   "language": "python",
   "name": "python3"
  },
  "language_info": {
   "codemirror_mode": {
    "name": "ipython",
    "version": 3
   },
   "file_extension": ".py",
   "mimetype": "text/x-python",
   "name": "python",
   "nbconvert_exporter": "python",
   "pygments_lexer": "ipython3",
   "version": "3.7.11"
  }
 },
 "nbformat": 4,
 "nbformat_minor": 5
}
