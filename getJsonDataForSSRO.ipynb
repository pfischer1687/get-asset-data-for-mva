{
 "cells": [
  {
   "cell_type": "markdown",
   "id": "fe018bd1",
   "metadata": {},
   "source": [
    "# Get JSON Data for \"Simple Sharpe Ratio Optimizer\""
   ]
  },
  {
   "cell_type": "markdown",
   "id": "01fa90ee",
   "metadata": {},
   "source": [
    "In this notebook, we get JSON data for \"simple Sharpe ratio optimizer\". Make this look academic, model thesis maybe."
   ]
  },
  {
   "cell_type": "code",
   "execution_count": 1,
   "id": "d99ef219",
   "metadata": {},
   "outputs": [],
   "source": [
    "import pandas as pd\n",
    "import numpy as np\n",
    "import matplotlib.pyplot as plt\n",
    "import yfinance as yf\n",
    "import json"
   ]
  },
  {
   "cell_type": "markdown",
   "id": "9ae31f9e",
   "metadata": {},
   "source": [
    "## Get data"
   ]
  },
  {
   "cell_type": "markdown",
   "id": "347b2c21",
   "metadata": {},
   "source": [
    "Let's get the data. Starting with test of 1st 10 tickers"
   ]
  },
  {
   "cell_type": "code",
   "execution_count": 52,
   "id": "419d93c1",
   "metadata": {},
   "outputs": [],
   "source": [
    "assetTickers = ['AAPL', 'CVX', 'HD', 'JNJ', 'JPM', 'MSFT', 'PG', 'UNH', 'V', 'WMT']"
   ]
  },
  {
   "cell_type": "markdown",
   "id": "f5506b5e",
   "metadata": {},
   "source": [
    "Let's make DataFrame pandas of returns"
   ]
  },
  {
   "cell_type": "code",
   "execution_count": 53,
   "id": "244cc427",
   "metadata": {},
   "outputs": [],
   "source": [
    "df = pd.DataFrame()\n",
    "for ticker in assetTickers:\n",
    "    # Get monthly all time close data\n",
    "    tmpDf = pd.DataFrame(yf.Ticker(ticker).history(period=\"max\", interval=\"1mo\")[\"Close\"]).rename(\n",
    "        columns={\"Close\":ticker})\n",
    "    \n",
    "    # Format for monthly index using the first datum of each month\n",
    "    tmpDf.index = tmpDf.index.strftime('%Y-%m')\n",
    "    tmpDf = tmpDf[~tmpDf.index.duplicated(keep='first')]\n",
    "    \n",
    "    df = df.join(tmpDf, how='outer')\n",
    "\n",
    "# clean data\n",
    "df.fillna(method='ffill', inplace=True)\n",
    "df.dropna(how='all', inplace=True)\n",
    "\n",
    "# get monthly pct return\n",
    "df = df.pct_change()[1:] * 100"
   ]
  },
  {
   "cell_type": "markdown",
   "id": "3a6dddb8",
   "metadata": {},
   "source": [
    "## Get the data we need"
   ]
  },
  {
   "cell_type": "markdown",
   "id": "5fd8d15c",
   "metadata": {},
   "source": [
    "Explain each step of how and why I cleaned the data. Explain that I'm doing below to specifically find how each stock directly covaries with each other one."
   ]
  },
  {
   "cell_type": "code",
   "execution_count": 54,
   "id": "ba89ecca",
   "metadata": {},
   "outputs": [],
   "source": [
    "firstValidMonthDict = dict()\n",
    "for ticker in assetTickers:\n",
    "    firstValidMonthDict[ticker] = df[ticker].notna().idxmax()"
   ]
  },
  {
   "cell_type": "markdown",
   "id": "ad4039be",
   "metadata": {},
   "source": [
    "So now we create the dict"
   ]
  },
  {
   "cell_type": "code",
   "execution_count": 55,
   "id": "f88496d9",
   "metadata": {},
   "outputs": [],
   "source": [
    "assetDataDict = dict()\n",
    "for i in range(len(assetTickers)-1):\n",
    "    assetVar = df[assetTickers[i]].std()**2\n",
    "    assetMean = df[assetTickers[i]].mean()\n",
    "    assetDataDict[assetTickers[i]] = {'title': yf.Ticker(assetTickers[i]).info['longName'], 'avgMoRetPct': assetMean, \n",
    "                                      'var': assetVar, 'cov': {}}\n",
    "    for j in range(i+1, len(assetTickers)):\n",
    "        startDate = max(firstValidMonthDict[assetTickers[i]], firstValidMonthDict[assetTickers[j]])\n",
    "        assetCov = df[[assetTickers[i], assetTickers[j]]].loc[startDate:].cov().iloc[0,1]\n",
    "        assetDataDict[assetTickers[i]]['cov'][assetTickers[j]] = assetCov\n",
    "assetVar = df[assetTickers[-1]].std()**2\n",
    "assetMean = df[assetTickers[-1]].mean()\n",
    "assetDataDict[assetTickers[-1]] = {'title': yf.Ticker(assetTickers[-1]).info['longName'], 'avgMoRet': assetMean, \n",
    "                                  'var': assetVar}"
   ]
  },
  {
   "cell_type": "markdown",
   "id": "6572c46e",
   "metadata": {},
   "source": [
    "Probably want to discuss why I chose to collect the data in this way fully."
   ]
  },
  {
   "cell_type": "markdown",
   "id": "8711e61f",
   "metadata": {},
   "source": [
    "## Export JSON"
   ]
  },
  {
   "cell_type": "markdown",
   "id": "ebb92e54",
   "metadata": {},
   "source": [
    "Export JSON"
   ]
  },
  {
   "cell_type": "code",
   "execution_count": 57,
   "id": "7bcc73e3",
   "metadata": {},
   "outputs": [],
   "source": [
    "with open(\"../simple-sharpe-ratio-optimizer/data/asset-data-test.json\", \"w\") as f:\n",
    "    json.dump(assetDataDict, f, indent=2)"
   ]
  },
  {
   "cell_type": "code",
   "execution_count": null,
   "id": "4c007af7",
   "metadata": {},
   "outputs": [],
   "source": []
  }
 ],
 "metadata": {
  "kernelspec": {
   "display_name": "Python 3 (ipykernel)",
   "language": "python",
   "name": "python3"
  },
  "language_info": {
   "codemirror_mode": {
    "name": "ipython",
    "version": 3
   },
   "file_extension": ".py",
   "mimetype": "text/x-python",
   "name": "python",
   "nbconvert_exporter": "python",
   "pygments_lexer": "ipython3",
   "version": "3.7.11"
  }
 },
 "nbformat": 4,
 "nbformat_minor": 5
}
